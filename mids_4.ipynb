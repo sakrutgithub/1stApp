{
  "cells": [
    {
      "cell_type": "markdown",
      "metadata": {
        "id": "view-in-github",
        "colab_type": "text"
      },
      "source": [
        "<a href=\"https://colab.research.google.com/github/sakrutgithub/1stApp/blob/main/mids_4.ipynb\" target=\"_parent\"><img src=\"https://colab.research.google.com/assets/colab-badge.svg\" alt=\"Open In Colab\"/></a>"
      ]
    },
    {
      "cell_type": "code",
      "execution_count": null,
      "metadata": {
        "id": "7S9Ou6rI5xUS"
      },
      "outputs": [],
      "source": [
        "import numpy as np\n",
        "from scipy.spatial.distance import cdist"
      ]
    },
    {
      "cell_type": "code",
      "execution_count": null,
      "metadata": {
        "id": "0WjtHGh152Ws"
      },
      "outputs": [],
      "source": [
        "X = np.array([[0.1, 0.6], [0.15, 0.71], [0.08, 0.9], [0.16, 0.85],\n",
        "[0.2, 0.3], [0.25, 0.5], [0.24, 0.1], [0.3, 0.2]])"
      ]
    },
    {
      "cell_type": "code",
      "execution_count": null,
      "metadata": {
        "id": "d4E4AtlH55xj"
      },
      "outputs": [],
      "source": [
        "C = np.array([[0.1, 0.6], [0.3, 0.2]])"
      ]
    },
    {
      "cell_type": "code",
      "execution_count": null,
      "metadata": {
        "id": "bsww1Q-X592b"
      },
      "outputs": [],
      "source": [
        "clusters = np.argmin(cdist(X, C), axis=1)"
      ]
    },
    {
      "cell_type": "code",
      "execution_count": null,
      "metadata": {
        "colab": {
          "base_uri": "https://localhost:8080/"
        },
        "id": "Y7cTkFQI6BUu",
        "outputId": "a39d4b32-bda5-480b-d5cf-3f18ab546b09"
      },
      "outputs": [
        {
          "output_type": "stream",
          "name": "stdout",
          "text": [
            "[0 0 0 0 1 0 1 1]\n"
          ]
        }
      ],
      "source": [
        "while True:\n",
        "  C_new = np.array([X[clusters==i].mean(axis=0) for i in range(len(C))])\n",
        "  if np.array_equal(C, C_new):\n",
        "    break\n",
        "  clusters = np.argmin(cdist(X, C_new), axis=1)\n",
        "  C = C_new\n",
        "print(clusters)"
      ]
    },
    {
      "cell_type": "code",
      "execution_count": null,
      "metadata": {
        "id": "qL0NEG-r6J8B"
      },
      "outputs": [],
      "source": [
        "from sklearn.cluster import KMeans\n",
        "import numpy as np"
      ]
    },
    {
      "cell_type": "code",
      "execution_count": null,
      "metadata": {
        "id": "fB8EkZ0m6KYz"
      },
      "outputs": [],
      "source": [
        "P1 = np.array([0.1, 0.6])\n",
        "P2 = np.array([0.15, 0.71])\n",
        "P3 = np.array([0.08, 0.9])\n",
        "P4 = np.array([0.16, 0.85])\n",
        "P5 = np.array([0.2, 0.3])\n",
        "P6 = np.array([0.25, 0.5])\n",
        "P7 = np.array([0.24, 0.1])\n",
        "P8 = np.array([0.3, 0.2])"
      ]
    },
    {
      "cell_type": "code",
      "execution_count": null,
      "metadata": {
        "id": "IZlmqq7Z6PDQ"
      },
      "outputs": [],
      "source": [
        "m1 = P1\n",
        "m2 = P8\n",
        "X = np.array([P1, P2, P3, P4, P5, P6, P7, P8])\n",
        "kmeans = KMeans(n_clusters=2, init=np.array([m1, m2]), n_init=1).fit(X)"
      ]
    },
    {
      "cell_type": "code",
      "execution_count": null,
      "metadata": {
        "colab": {
          "base_uri": "https://localhost:8080/"
        },
        "id": "R_v8C7Hv6P2k",
        "outputId": "ddce4433-7bf1-40e5-f0ed-c6389babe59f"
      },
      "outputs": [
        {
          "output_type": "stream",
          "name": "stdout",
          "text": [
            "Final centroids:\n",
            "[[0.148      0.712     ]\n",
            " [0.24666667 0.2       ]]\n",
            "Cluster assignments:\n",
            "[0 0 0 0 1 0 1 1]\n"
          ]
        }
      ],
      "source": [
        "print(\"Final centroids:\")\n",
        "print(kmeans.cluster_centers_)\n",
        "print(\"Cluster assignments:\")\n",
        "print(kmeans.labels_)"
      ]
    },
    {
      "cell_type": "code",
      "execution_count": null,
      "metadata": {
        "id": "5AB4xuoC-MkT"
      },
      "outputs": [],
      "source": []
    },
    {
      "cell_type": "code",
      "execution_count": null,
      "metadata": {
        "id": "Ncuo8Flh-MkU"
      },
      "outputs": [],
      "source": []
    }
  ],
  "metadata": {
    "colab": {
      "provenance": [],
      "include_colab_link": true
    },
    "kernelspec": {
      "display_name": "Python 3 (ipykernel)",
      "language": "python",
      "name": "python3"
    },
    "language_info": {
      "codemirror_mode": {
        "name": "ipython",
        "version": 3
      },
      "file_extension": ".py",
      "mimetype": "text/x-python",
      "name": "python",
      "nbconvert_exporter": "python",
      "pygments_lexer": "ipython3",
      "version": "3.11.5"
    }
  },
  "nbformat": 4,
  "nbformat_minor": 0
}